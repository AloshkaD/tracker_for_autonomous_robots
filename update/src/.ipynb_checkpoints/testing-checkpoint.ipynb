{
 "cells": [
  {
   "cell_type": "code",
   "execution_count": 1,
   "metadata": {
    "collapsed": true
   },
   "outputs": [],
   "source": [
    "import sys\n",
    "# Imports\n",
    "path_to_utils = '/home/a/SDC/defence/ROLO/update/utils'\n",
    "sys.path.extend([path_to_utils])\n",
    "#import ROLO_utils as utils\n",
    "from utils_dataset import *\n",
    "from utils_draw_coord import debug_decimal_coord\n",
    "from utils_io_folder import *\n",
    "from utils_io_coord import *"
   ]
  },
  {
   "cell_type": "code",
   "execution_count": 2,
   "metadata": {
    "collapsed": true
   },
   "outputs": [],
   "source": [
    "def get_batch_by_repeat(ndarray, batchsize):\n",
    "    batch_ndarray = []\n",
    "    for id in range(batchsize):\n",
    "        batch_ndarray.append(ndarray)\n",
    "    return batch_ndarray"
   ]
  },
  {
   "cell_type": "code",
   "execution_count": 3,
   "metadata": {
    "collapsed": true
   },
   "outputs": [],
   "source": [
    "\n",
    "def test(self, sess, loss, batch_pred_coords):\n",
    "    print(\"\\n\\n\\n--------------------------------------------TESTING OTB-50---------------------------------------------------------\\n\")\n",
    "    num_videos = 50\n",
    "    loss_dataset_total = 0\n",
    "    OTB_folder_path = \"/home/a/SDC/defence/ROLO/benchmark/DATA/\"\n",
    "\n",
    "    for video_id in range(num_videos):\n",
    "        if video_id in [1, 5, 16, 20, 21, 22, 23, 28, 30, 32, 36, 42, 43, 46]: continue\n",
    "\n",
    "        [img_wid, img_ht, sequence_name, st_frame, self.training_iters] = choose_video_sequence_from_OTB50(video_id)\n",
    "        print('testing sequence: ', sequence_name)\n",
    "\n",
    "        x_path = os.path.join(OTB_folder_path, sequence_name, '/home/a/SDC/defence/yolo_output/')\n",
    "        y_path = os.path.join(OTB_folder_path, sequence_name, 'groundtruth_rect.txt')\n",
    "        self.output_path = os.path.join(OTB_folder_path, sequence_name, 'rolo_loc_test/')\n",
    "        create_folder(self.output_path)\n",
    "\n",
    "        img_folder_path = os.path.join(OTB_folder_path, sequence_name, 'img/')\n",
    "        img_paths = get_immediate_childfile_paths(img_folder_path)\n",
    "\n",
    "        loss_seq_total = frame_id = 0\n",
    "        offset_id = self.nsteps\n",
    "\n",
    "        init_state_zeros = np.zeros((self.batchsize, 2*self.len_vec))\n",
    "\n",
    "        while frame_id  < self.training_iters- self.nsteps:\n",
    "\n",
    "            ''' The index start from zero, while the frame usually starts from one '''\n",
    "            st_id = st_frame - 1\n",
    "            if frame_id < st_id:\n",
    "                frame_id += 1\n",
    "                continue\n",
    "\n",
    "            ''' Load input data & ground truth '''\n",
    "            xs = load_vecs_of_stepsize_in_numpy_folder(x_path,\n",
    "                                                       frame_id - st_id,\n",
    "                                                       self.nsteps)\n",
    "            ys = load_gt_decimal_coords_from_file(y_path,\n",
    "                                                  frame_id - st_id + offset_id,\n",
    "                                                  img_wid,\n",
    "                                                  img_ht)\n",
    "\n",
    "            batch_xs = get_batch_by_repeat(xs, self.batchsize)\n",
    "            batch_ys = get_batch_by_repeat(ys, self.batchsize)\n",
    "\n",
    "            batch_xs = np.reshape(batch_xs, [self.batchsize, self.nsteps, self.len_vec])\n",
    "            batch_ys = np.reshape(batch_ys, [self.batchsize, 4])\n",
    "\n",
    "            ''' Save pred_location to file '''\n",
    "            #utils.save_rolo_output(self.output_path, pred_loc, id, self.nsteps, self.batchsize)\n",
    "\n",
    "            init_state = init_state_zeros\n",
    "            #init_state = sess.run(self.final_state,\n",
    "            #                      feed_dict={self.x: batch_xs,\n",
    "            #                                 self.y: batch_ys,\n",
    "            #                                 self.istate: init_state_zeros})\n",
    "            batch_loss = sess.run(loss,\n",
    "                                  feed_dict={self.x: batch_xs,\n",
    "                                             self.y: batch_ys,\n",
    "                                             self.istate: init_state})\n",
    "            loss_seq_total += batch_loss\n",
    "\n",
    "            if self.display_validate is True:\n",
    "                coord_decimal_gt = sess.run(self.y,\n",
    "                                            feed_dict = {self.x: batch_xs,\n",
    "                                                         self.y: batch_ys,\n",
    "                                                         self.istate: init_state})\n",
    "                coord_decimal_pred = sess.run(batch_pred_coords,\n",
    "                                              feed_dict = {self.x: batch_xs,\n",
    "                                                           self.y: batch_ys,\n",
    "                                                           self.istate: init_state}\n",
    "                                              )[0]\n",
    "\n",
    "                img = cv2.imread(img_paths[frame_id])\n",
    "                debug_decimal_coord(img, coord_decimal_pred)\n",
    "\n",
    "            frame_id += 1\n",
    "\n",
    "        loss_seq_avg = loss_seq_total / frame_id\n",
    "        print( \"Avg loss for \" + sequence_name + \": \" + str(loss_seq_avg))\n",
    "        loss_dataset_total += loss_seq_avg\n",
    "\n",
    "    print('Total loss of Dataset: %f \\n', loss_dataset_total)\n",
    "    print(\"-----------------------------------------TESTING OTB-50 END---------------------------------------------------------\\n\\n\\n\")\n",
    "    return loss_dataset_total\n"
   ]
  },
  {
   "cell_type": "code",
   "execution_count": null,
   "metadata": {
    "collapsed": true
   },
   "outputs": [],
   "source": []
  }
 ],
 "metadata": {
  "anaconda-cloud": {},
  "kernelspec": {
   "display_name": "Python [conda env:keras]",
   "language": "python",
   "name": "conda-env-keras-py"
  },
  "language_info": {
   "codemirror_mode": {
    "name": "ipython",
    "version": 3
   },
   "file_extension": ".py",
   "mimetype": "text/x-python",
   "name": "python",
   "nbconvert_exporter": "python",
   "pygments_lexer": "ipython3",
   "version": "3.5.2"
  }
 },
 "nbformat": 4,
 "nbformat_minor": 2
}
